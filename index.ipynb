{
 "cells": [
  {
   "cell_type": "markdown",
   "metadata": {},
   "source": [
    "# A2 - Introdução à Ciência de Dados - Titanic\n",
    "\n",
    "Integrantes:\n",
    "\n",
    "- Guilherme Castilho\n",
    "- Guilherme Queiroz\n",
    "- Luísa Scheneider\n",
    "- Paulo César"
   ]
  },
  {
   "cell_type": "code",
   "execution_count": 1,
   "metadata": {},
   "outputs": [],
   "source": [
    "from IPython.display import IFrame"
   ]
  },
  {
   "cell_type": "markdown",
   "metadata": {},
   "source": [
    "Os gráficos a seguir, são sobre a tragédia do Titanic em 1912."
   ]
  },
  {
   "cell_type": "code",
   "execution_count": 14,
   "metadata": {},
   "outputs": [
    {
     "data": {
      "text/html": [
       "\n",
       "        <iframe\n",
       "            width=\"600\"\n",
       "            height=\"360\"\n",
       "            src=\"./Aquivos_html/bar_chart_age_sex.html\"\n",
       "            frameborder=\"0\"\n",
       "            allowfullscreen\n",
       "            \n",
       "        ></iframe>\n",
       "        "
      ],
      "text/plain": [
       "<IPython.lib.display.IFrame at 0x1fd72946b00>"
      ]
     },
     "execution_count": 14,
     "metadata": {},
     "output_type": "execute_result"
    }
   ],
   "source": [
    "IFrame(src='./Aquivos_html/bar_chart_age_sex.html', width=600, height=360)"
   ]
  },
  {
   "cell_type": "markdown",
   "metadata": {},
   "source": [
    "O Gráfico acima mostra a quantidade de mortos por idade e gênero. Vemos que a quantidade de crianças que morreram foi menor que a de adultos e, em cada categoria de idade, a quantidade de mulheres que morreram foi menor. Isso é um reflexo do protocolo de evacuação do navio em que mulheres e crianças tinham prioridade no embarque de botes salva-vidas. A cor do fundo é azul, referente ao mar, e as barras são amarelas e pretas, referente às chaminés do Titanic."
   ]
  },
  {
   "cell_type": "code",
   "execution_count": 3,
   "metadata": {},
   "outputs": [
    {
     "data": {
      "text/html": [
       "\n",
       "        <iframe\n",
       "            width=\"800\"\n",
       "            height=\"400\"\n",
       "            src=\"./Aquivos_html/scatter_plot_class_fare.html\"\n",
       "            frameborder=\"0\"\n",
       "            allowfullscreen\n",
       "            \n",
       "        ></iframe>\n",
       "        "
      ],
      "text/plain": [
       "<IPython.lib.display.IFrame at 0x1fd72946ef0>"
      ]
     },
     "execution_count": 3,
     "metadata": {},
     "output_type": "execute_result"
    }
   ],
   "source": [
    "IFrame(src='./Aquivos_html/scatter_plot_class_fare.html', width=800, height=400)"
   ]
  },
  {
   "cell_type": "markdown",
   "metadata": {},
   "source": [
    "O Gráfico acima mostra a correlação entre a classe dos passageiros e o preço pago por eles na passagem. Vemos que os passageiros da primeira classe pagaram preços bem mais altos em relação às outras classes. As cores foram escolhidas para o gráfico com o intuito de representar os passageiros nadando em alto-mar."
   ]
  },
  {
   "cell_type": "code",
   "execution_count": 4,
   "metadata": {},
   "outputs": [
    {
     "data": {
      "text/html": [
       "\n",
       "        <iframe\n",
       "            width=\"800\"\n",
       "            height=\"400\"\n",
       "            src=\"./Aquivos_html/histogram_age.html\"\n",
       "            frameborder=\"0\"\n",
       "            allowfullscreen\n",
       "            \n",
       "        ></iframe>\n",
       "        "
      ],
      "text/plain": [
       "<IPython.lib.display.IFrame at 0x1fd72946740>"
      ]
     },
     "execution_count": 4,
     "metadata": {},
     "output_type": "execute_result"
    }
   ],
   "source": [
    "IFrame(src='./Aquivos_html/histogram_age.html', width=800, height=400)"
   ]
  },
  {
   "cell_type": "markdown",
   "metadata": {},
   "source": [
    "O histograma acima mostra a distribuição das idades dos passageiros abordo do Titanic. Nota-se que, haviam mais adultos nos seus 20 à 40 anos e haviam mais. A escolha de elementos foi feita para que o gráfico se assemelhasse a um iceberg."
   ]
  },
  {
   "cell_type": "code",
   "execution_count": 5,
   "metadata": {},
   "outputs": [
    {
     "data": {
      "text/html": [
       "\n",
       "        <iframe\n",
       "            width=\"800\"\n",
       "            height=\"600\"\n",
       "            src=\"./Aquivos_html/ageSurvived.html\"\n",
       "            frameborder=\"0\"\n",
       "            allowfullscreen\n",
       "            \n",
       "        ></iframe>\n",
       "        "
      ],
      "text/plain": [
       "<IPython.lib.display.IFrame at 0x1fd72947880>"
      ]
     },
     "execution_count": 5,
     "metadata": {},
     "output_type": "execute_result"
    }
   ],
   "source": [
    "IFrame(src='./Aquivos_html/ageSurvived.html', width=800, height=600)"
   ]
  },
  {
   "cell_type": "markdown",
   "metadata": {},
   "source": [
    "Optamos pelo histograma como tipo de gráfico porque ele proporciona uma visualização clara das quantidades distribuídas por idades. No eixo X, representamos as várias idades, enquanto no eixo Y, contabilizamos suas respectivas frequências, permitindo assim uma compreensão intuitiva da distribuição da quantidade por idade. No histograma, as idades são coloridas em cinza escuro, contrastando com o histograma de sobrevivência, que exibe o número de sobreviventes em cada faixa etária, proporcionando um comparativo rico entre a distribuição total de idades e os que sobreviveram. A escolha das cores foram feitas propositalmente a fim de dar destaque ao histograma dos sobreviventes e remeter ao mar."
   ]
  },
  {
   "cell_type": "code",
   "execution_count": 6,
   "metadata": {},
   "outputs": [
    {
     "data": {
      "text/html": [
       "\n",
       "        <iframe\n",
       "            width=\"800\"\n",
       "            height=\"300\"\n",
       "            src=\"./Aquivos_html/ageClassSex.html\"\n",
       "            frameborder=\"0\"\n",
       "            allowfullscreen\n",
       "            \n",
       "        ></iframe>\n",
       "        "
      ],
      "text/plain": [
       "<IPython.lib.display.IFrame at 0x1fd72945870>"
      ]
     },
     "execution_count": 6,
     "metadata": {},
     "output_type": "execute_result"
    }
   ],
   "source": [
    "IFrame(src='./Aquivos_html/ageClassSex.html', width=800, height=300)"
   ]
  },
  {
   "cell_type": "markdown",
   "metadata": {},
   "source": [
    "Escolhemos utilizar o gráfico de caixa, também conhecido como box plot, para proporcionar uma representação visual clara da distribuição de dados. É possível entender o que é a mediana (ou o segundo quartil), os quartis inferior e superior (primeiro e terceiro quartis), além de identificar possíveis outliers (valores que se situam fora dos \"whiskers\"). Todos esses elementos são importantes para etendermos a distribuição dos dados. Além disso, a categorização desses gráficos de caixa por grupos - neste caso, classe e sexo - facilita a comparação direta entre diferentes segmentos.\n",
    "\n",
    "A escolha de cores foi feita tanto pela sua funcionalidade quanto pela sua simbologia estética. O contraste entre o preto e o amarelo assegura a fácil diferenciação entre os quartis superior e inferior, facilitando a interpretação da distribuição dos dados. Ademais, estas cores remetem o navio Titanic, estabelecendo uma ligação visual com o tema dos dados.\n",
    "\n",
    "O uso de um fundo azul claro visa melhorar a legibilidade do gráfico, oferecendo um contraste nítido entre o gráfico e o plano de fundo. Além disso, essa tonalidade remete à cor do mar, reforçando ainda mais a conexão temática com o Titanic."
   ]
  },
  {
   "cell_type": "code",
   "execution_count": 7,
   "metadata": {},
   "outputs": [
    {
     "data": {
      "text/html": [
       "\n",
       "        <iframe\n",
       "            width=\"800\"\n",
       "            height=\"300\"\n",
       "            src=\"./Aquivos_html/sexSurvive.html\"\n",
       "            frameborder=\"0\"\n",
       "            allowfullscreen\n",
       "            \n",
       "        ></iframe>\n",
       "        "
      ],
      "text/plain": [
       "<IPython.lib.display.IFrame at 0x1fd72946380>"
      ]
     },
     "execution_count": 7,
     "metadata": {},
     "output_type": "execute_result"
    }
   ],
   "source": [
    "IFrame(src='./Aquivos_html/sexSurvive.html', width=800, height=300)"
   ]
  },
  {
   "cell_type": "markdown",
   "metadata": {},
   "source": [
    "Decidimos utilizar um gráfico de barras horizontais para representar a relação entre gênero e sobrevivência, com o gênero no eixo Y e a variável de sobrevivência no eixo X. Essa escolha foi feita visando facilitar as comparações diretas entre as categorias. Os gráficos de barras horizontais são particularmente úteis na representação de dados categóricos, sendo o gênero uma categoria nesse contexto. As cores escolhidas, azul para o gênero masculino e vermelho para o feminino, permite que o leitor faça uma interpretação preliminar, mesmo na ausência de uma legenda explícita."
   ]
  },
  {
   "cell_type": "code",
   "execution_count": 8,
   "metadata": {},
   "outputs": [
    {
     "data": {
      "text/html": [
       "\n",
       "        <iframe\n",
       "            width=\"854\"\n",
       "            height=\"480\"\n",
       "            src=\"./Aquivos_html/ScatterPlot_FareByAge.html\"\n",
       "            frameborder=\"0\"\n",
       "            allowfullscreen\n",
       "            \n",
       "        ></iframe>\n",
       "        "
      ],
      "text/plain": [
       "<IPython.lib.display.IFrame at 0x1fd72946110>"
      ]
     },
     "execution_count": 8,
     "metadata": {},
     "output_type": "execute_result"
    }
   ],
   "source": [
    "IFrame(src='./Aquivos_html/ScatterPlot_FareByAge.html', width=854, height=480)"
   ]
  },
  {
   "cell_type": "code",
   "execution_count": 9,
   "metadata": {},
   "outputs": [
    {
     "data": {
      "text/html": [
       "\n",
       "        <iframe\n",
       "            width=\"854\"\n",
       "            height=\"480\"\n",
       "            src=\"./Aquivos_html/StackedBarsEmbarked.html\"\n",
       "            frameborder=\"0\"\n",
       "            allowfullscreen\n",
       "            \n",
       "        ></iframe>\n",
       "        "
      ],
      "text/plain": [
       "<IPython.lib.display.IFrame at 0x1fd72945e70>"
      ]
     },
     "execution_count": 9,
     "metadata": {},
     "output_type": "execute_result"
    }
   ],
   "source": [
    "IFrame(src='./Aquivos_html/StackedBarsEmbarked.html', width=854, height=480)"
   ]
  },
  {
   "cell_type": "code",
   "execution_count": 10,
   "metadata": {},
   "outputs": [
    {
     "data": {
      "text/html": [
       "\n",
       "        <iframe\n",
       "            width=\"854\"\n",
       "            height=\"480\"\n",
       "            src=\"./Aquivos_html/HistogramFare.html\"\n",
       "            frameborder=\"0\"\n",
       "            allowfullscreen\n",
       "            \n",
       "        ></iframe>\n",
       "        "
      ],
      "text/plain": [
       "<IPython.lib.display.IFrame at 0x1fd72945e40>"
      ]
     },
     "execution_count": 10,
     "metadata": {},
     "output_type": "execute_result"
    }
   ],
   "source": [
    "IFrame(src='./Aquivos_html/HistogramFare.html', width=854, height=480)"
   ]
  },
  {
   "cell_type": "code",
   "execution_count": 13,
   "metadata": {},
   "outputs": [
    {
     "data": {
      "text/html": [
       "\n",
       "        <iframe\n",
       "            width=\"854\"\n",
       "            height=\"480\"\n",
       "            src=\"./Aquivos_html/DivergingBarPlot.html\"\n",
       "            frameborder=\"0\"\n",
       "            allowfullscreen\n",
       "            \n",
       "        ></iframe>\n",
       "        "
      ],
      "text/plain": [
       "<IPython.lib.display.IFrame at 0x1fd729456c0>"
      ]
     },
     "execution_count": 13,
     "metadata": {},
     "output_type": "execute_result"
    }
   ],
   "source": [
    "IFrame(src='./Aquivos_html/DivergingBarPlot.html', width=854, height=480)"
   ]
  },
  {
   "cell_type": "code",
   "execution_count": 12,
   "metadata": {},
   "outputs": [
    {
     "data": {
      "text/html": [
       "\n",
       "        <iframe\n",
       "            width=\"854\"\n",
       "            height=\"480\"\n",
       "            src=\"./Aquivos_html/GroupedBarPlot.html\"\n",
       "            frameborder=\"0\"\n",
       "            allowfullscreen\n",
       "            \n",
       "        ></iframe>\n",
       "        "
      ],
      "text/plain": [
       "<IPython.lib.display.IFrame at 0x1fd72945b40>"
      ]
     },
     "execution_count": 12,
     "metadata": {},
     "output_type": "execute_result"
    }
   ],
   "source": [
    "IFrame(src='./Aquivos_html/GroupedBarPlot.html', width=854, height=480)"
   ]
  },
  {
   "cell_type": "code",
   "execution_count": null,
   "metadata": {},
   "outputs": [],
   "source": []
  }
 ],
 "metadata": {
  "kernelspec": {
   "display_name": "Python 3 (ipykernel)",
   "language": "python",
   "name": "python3"
  },
  "language_info": {
   "codemirror_mode": {
    "name": "ipython",
    "version": 3
   },
   "file_extension": ".py",
   "mimetype": "text/x-python",
   "name": "python",
   "nbconvert_exporter": "python",
   "pygments_lexer": "ipython3",
   "version": "3.10.9"
  }
 },
 "nbformat": 4,
 "nbformat_minor": 2
}
