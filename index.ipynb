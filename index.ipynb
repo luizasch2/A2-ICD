{
 "cells": [
  {
   "cell_type": "markdown",
   "metadata": {},
   "source": [
    "# A2 - Introdução à Ciência de Dados - Titanic\n",
    "\n",
    "Integrantes:\n",
    "\n",
    "- Guilherme Castilho\n",
    "- Guilherme Queiroz\n",
    "- Luísa Scheneider\n",
    "- Paulo César"
   ]
  },
  {
   "cell_type": "code",
   "execution_count": 1,
   "metadata": {},
   "outputs": [],
   "source": [
    "from IPython.display import IFrame"
   ]
  },
  {
   "cell_type": "markdown",
   "metadata": {},
   "source": [
    "Os gráficos a seguir, são sobre a tragédia do Titanic em 1912."
   ]
  },
  {
   "cell_type": "code",
   "execution_count": 14,
   "metadata": {},
   "outputs": [
    {
     "data": {
      "text/html": [
       "\n",
       "        <iframe\n",
       "            width=\"600\"\n",
       "            height=\"360\"\n",
       "            src=\"./Aquivos_html/bar_chart_age_sex.html\"\n",
       "            frameborder=\"0\"\n",
       "            allowfullscreen\n",
       "            \n",
       "        ></iframe>\n",
       "        "
      ],
      "text/plain": [
       "<IPython.lib.display.IFrame at 0x1fd72946b00>"
      ]
     },
     "execution_count": 14,
     "metadata": {},
     "output_type": "execute_result"
    }
   ],
   "source": [
    "IFrame(src='./Aquivos_html/bar_chart_age_sex.html', width=600, height=360)"
   ]
  },
  {
   "cell_type": "markdown",
   "metadata": {},
   "source": [
    "O gráfico apresentado ilustra a distribuição de fatalidades por idade e gênero. É visível que a taxa de mortalidade entre crianças é significativamente menor em comparação com os adultos. Além disso, dentro de cada faixa etária, as mulheres demonstram uma menor taxa de mortalidade em comparação aos homens. Esta distribuição é um reflexo dos procedimentos de evacuação adotados no Titanic, onde mulheres e crianças eram priorizadas durante o embarque nos botes salva-vidas.\n",
    "\n",
    "O design do gráfico foi escolhido para evocar imagens do trágico incidente. O fundo azul remete ao vasto mar que foi palco da catástrofe. As barras amarelas e pretas fazem alusão às emblemáticas chaminés do Titanic. "
   ]
  },
  {
   "cell_type": "code",
   "execution_count": 3,
   "metadata": {},
   "outputs": [
    {
     "data": {
      "text/html": [
       "\n",
       "        <iframe\n",
       "            width=\"800\"\n",
       "            height=\"400\"\n",
       "            src=\"./Aquivos_html/scatter_plot_class_fare.html\"\n",
       "            frameborder=\"0\"\n",
       "            allowfullscreen\n",
       "            \n",
       "        ></iframe>\n",
       "        "
      ],
      "text/plain": [
       "<IPython.lib.display.IFrame at 0x1fd72946ef0>"
      ]
     },
     "execution_count": 3,
     "metadata": {},
     "output_type": "execute_result"
    }
   ],
   "source": [
    "IFrame(src='./Aquivos_html/scatter_plot_class_fare.html', width=800, height=400)"
   ]
  },
  {
   "cell_type": "markdown",
   "metadata": {},
   "source": [
    "O gráfico acima apresenta a correlação entre a classe de passageiros do Titanic e o valor que pagaram pela passagem. O padrão emergente é bastante claro: os passageiros da primeira classe, em geral, pagaram valores substancialmente mais altos pelas suas passagens em comparação com os da segunda e terceira classes.\n",
    "\n",
    "Essa representação gráfica reforça a estrutura econômica da época, destacando o fato de que viajar em um nível mais elevado de conforto e luxo requer um investimento significativo. As marcas de dispersão no gráfico permitem uma avaliação visual instantânea dessa discrepância.\n",
    "\n",
    "As cores foram meticulosamente selecionadas para o gráfico a fim de criar uma atmosfera que lembra os passageiros que acabaram nas águas geladas do Atlântico Norte. O fundo escuro simboliza as profundezas do oceano, enquanto os pontos de dispersão em um tom mais claro retratam os passageiros que lutam por suas vidas no mar."
   ]
  },
  {
   "cell_type": "code",
   "execution_count": 4,
   "metadata": {},
   "outputs": [
    {
     "data": {
      "text/html": [
       "\n",
       "        <iframe\n",
       "            width=\"800\"\n",
       "            height=\"400\"\n",
       "            src=\"./Aquivos_html/histogram_age.html\"\n",
       "            frameborder=\"0\"\n",
       "            allowfullscreen\n",
       "            \n",
       "        ></iframe>\n",
       "        "
      ],
      "text/plain": [
       "<IPython.lib.display.IFrame at 0x1fd72946740>"
      ]
     },
     "execution_count": 4,
     "metadata": {},
     "output_type": "execute_result"
    }
   ],
   "source": [
    "IFrame(src='./Aquivos_html/histogram_age.html', width=800, height=400)"
   ]
  },
  {
   "cell_type": "markdown",
   "metadata": {},
   "source": [
    "O histograma acima retrata a distribuição de idade dos passageiros a bordo do Titanic. É evidente que a maioria dos passageiros estava na faixa etária de 20 a 40 anos, destacando o perfil demográfico dominante na embarcação naquela fatídica viagem.\n",
    "\n",
    "Essa representação gráfica oferece uma visão clara e concisa da demografia dos passageiros, permitindo que nós, os observadores modernos, possamos compreender melhor o cenário social no momento do naufrágio.\n",
    "\n",
    "A estética do gráfico foi elaborada para ecoar a causa direta da tragédia: um iceberg. O fundo azul profundo evoca a imagem da água gelada, enquanto os blocos de histograma em um tom de cinza mais claro simbolizam a vasta e letal massa de gelo que selou o destino do Titanic."
   ]
  },
  {
   "cell_type": "code",
   "execution_count": 19,
   "metadata": {},
   "outputs": [
    {
     "data": {
      "text/html": [
       "\n",
       "        <iframe\n",
       "            width=\"800\"\n",
       "            height=\"600\"\n",
       "            src=\"./Aquivos_html/ageSurvived.html\"\n",
       "            frameborder=\"0\"\n",
       "            allowfullscreen\n",
       "            \n",
       "        ></iframe>\n",
       "        "
      ],
      "text/plain": [
       "<IPython.lib.display.IFrame at 0x1fd72945de0>"
      ]
     },
     "execution_count": 19,
     "metadata": {},
     "output_type": "execute_result"
    }
   ],
   "source": [
    "IFrame(src='./Aquivos_html/ageSurvived.html', width=800, height=600)"
   ]
  },
  {
   "cell_type": "markdown",
   "metadata": {},
   "source": [
    "Optamos pelo histograma como tipo de gráfico porque ele proporciona uma visualização clara das quantidades distribuídas por idades. No eixo X, representamos as várias idades, enquanto no eixo Y, contabilizamos suas respectivas frequências, permitindo assim uma compreensão intuitiva da distribuição da quantidade por idade. No histograma, as idades são coloridas em cinza escuro, contrastando com o histograma de sobrevivência, que exibe o número de sobreviventes em cada faixa etária, proporcionando um comparativo rico entre a distribuição total de idades e os que sobreviveram. A escolha das cores foram feitas propositalmente a fim de dar destaque ao histograma dos sobreviventes e remeter ao mar."
   ]
  },
  {
   "cell_type": "code",
   "execution_count": 18,
   "metadata": {},
   "outputs": [
    {
     "data": {
      "text/html": [
       "\n",
       "        <iframe\n",
       "            width=\"800\"\n",
       "            height=\"300\"\n",
       "            src=\"./Aquivos_html/ageClassSex.html\"\n",
       "            frameborder=\"0\"\n",
       "            allowfullscreen\n",
       "            \n",
       "        ></iframe>\n",
       "        "
      ],
      "text/plain": [
       "<IPython.lib.display.IFrame at 0x1fd729459c0>"
      ]
     },
     "execution_count": 18,
     "metadata": {},
     "output_type": "execute_result"
    }
   ],
   "source": [
    "IFrame(src='./Aquivos_html/ageClassSex.html', width=800, height=300)"
   ]
  },
  {
   "cell_type": "markdown",
   "metadata": {},
   "source": [
    "Escolhemos utilizar o gráfico de caixa, também conhecido como box plot, para proporcionar uma representação visual clara da distribuição de dados. É possível entender o que é a mediana (ou o segundo quartil), os quartis inferior e superior (primeiro e terceiro quartis), além de identificar possíveis outliers (valores que se situam fora dos \"whiskers\"). Todos esses elementos são importantes para etendermos a distribuição dos dados. Além disso, a categorização desses gráficos de caixa por grupos - neste caso, classe e sexo - facilita a comparação direta entre diferentes segmentos.\n",
    "\n",
    "A escolha de cores foi feita tanto pela sua funcionalidade quanto pela sua simbologia estética. O contraste entre o preto e o amarelo assegura a fácil diferenciação entre os quartis superior e inferior, facilitando a interpretação da distribuição dos dados. Ademais, estas cores remetem o navio Titanic, estabelecendo uma ligação visual com o tema dos dados.\n",
    "\n",
    "O uso de um fundo azul claro visa melhorar a legibilidade do gráfico, oferecendo um contraste nítido entre o gráfico e o plano de fundo. Além disso, essa tonalidade remete à cor do mar, reforçando ainda mais a conexão temática com o Titanic."
   ]
  },
  {
   "cell_type": "code",
   "execution_count": 20,
   "metadata": {},
   "outputs": [
    {
     "data": {
      "text/html": [
       "\n",
       "        <iframe\n",
       "            width=\"800\"\n",
       "            height=\"300\"\n",
       "            src=\"./Aquivos_html/sexSurvive.html\"\n",
       "            frameborder=\"0\"\n",
       "            allowfullscreen\n",
       "            \n",
       "        ></iframe>\n",
       "        "
      ],
      "text/plain": [
       "<IPython.lib.display.IFrame at 0x1fd72945c90>"
      ]
     },
     "execution_count": 20,
     "metadata": {},
     "output_type": "execute_result"
    }
   ],
   "source": [
    "IFrame(src='./Aquivos_html/sexSurvive.html', width=800, height=300)"
   ]
  },
  {
   "cell_type": "markdown",
   "metadata": {},
   "source": [
    "Decidimos utilizar um gráfico de barras horizontais para representar a relação entre gênero e sobrevivência, com o gênero no eixo Y e a variável de sobrevivência no eixo X. Essa escolha foi feita visando facilitar as comparações diretas entre as categorias. Os gráficos de barras horizontais são particularmente úteis na representação de dados categóricos, sendo o gênero uma categoria nesse contexto. As cores escolhidas, azul para o gênero masculino e vermelho para o feminino, permite que o leitor faça uma interpretação preliminar, mesmo na ausência de uma legenda explícita."
   ]
  },
  {
   "cell_type": "code",
   "execution_count": 8,
   "metadata": {
    "scrolled": true
   },
   "outputs": [
    {
     "data": {
      "text/html": [
       "\n",
       "        <iframe\n",
       "            width=\"854\"\n",
       "            height=\"480\"\n",
       "            src=\"./Aquivos_html/ScatterPlot_FareByAge.html\"\n",
       "            frameborder=\"0\"\n",
       "            allowfullscreen\n",
       "            \n",
       "        ></iframe>\n",
       "        "
      ],
      "text/plain": [
       "<IPython.lib.display.IFrame at 0x1fd72946110>"
      ]
     },
     "execution_count": 8,
     "metadata": {},
     "output_type": "execute_result"
    }
   ],
   "source": [
    "IFrame(src='./Aquivos_html/ScatterPlot_FareByAge.html', width=854, height=480)"
   ]
  },
  {
   "cell_type": "markdown",
   "metadata": {},
   "source": [
    "O gráfico de dispersão de tarifa por idade tem como objetivo permitir a análise de se há ou não correlação entre a idade dos passageiros do Titanic e o valor que foi pago pelos passageiros.\n",
    "\n",
    "Optou-se por utilizar pontos com determinado nível de transparência para que ocorrências semelhantes pudessem ser mais bem visualizadas, como é o caso de dois passageiros de mesma idade que pagaram o mesmo valor, sendo estes os que pagaram mais caro pela passagem.\n",
    "\n",
    "Pode-se concluir através da análise do gráfico que a maioria dos passageiros pagou um valor menor que 100 e suas idades se concentram mais no intervalo de 20 a 40 anos."
   ]
  },
  {
   "cell_type": "code",
   "execution_count": 9,
   "metadata": {},
   "outputs": [
    {
     "data": {
      "text/html": [
       "\n",
       "        <iframe\n",
       "            width=\"854\"\n",
       "            height=\"480\"\n",
       "            src=\"./Aquivos_html/StackedBarsEmbarked.html\"\n",
       "            frameborder=\"0\"\n",
       "            allowfullscreen\n",
       "            \n",
       "        ></iframe>\n",
       "        "
      ],
      "text/plain": [
       "<IPython.lib.display.IFrame at 0x1fd72945e70>"
      ]
     },
     "execution_count": 9,
     "metadata": {},
     "output_type": "execute_result"
    }
   ],
   "source": [
    "IFrame(src='./Aquivos_html/StackedBarsEmbarked.html', width=854, height=480)"
   ]
  },
  {
   "cell_type": "markdown",
   "metadata": {},
   "source": [
    "O gráfico de sobreviventes por local de embarque demonstra através de barras empilhadas a quantidade de pessoas que embarcaram no Titanic em cada uma das três cidades possíveis que sobreviveram e que faleceram.\n",
    "É visível que a maior parte dos passageiros do Titanic embarcaram em Southampton (644 dos 891 passageiros) e destes a maior parte acabou falecendo (427). Observa-se também que dentre os passageiros que embarcaram em Cherbourg, a maior parte conseguiu sobreviver. "
   ]
  },
  {
   "cell_type": "code",
   "execution_count": 10,
   "metadata": {},
   "outputs": [
    {
     "data": {
      "text/html": [
       "\n",
       "        <iframe\n",
       "            width=\"854\"\n",
       "            height=\"480\"\n",
       "            src=\"./Aquivos_html/HistogramFare.html\"\n",
       "            frameborder=\"0\"\n",
       "            allowfullscreen\n",
       "            \n",
       "        ></iframe>\n",
       "        "
      ],
      "text/plain": [
       "<IPython.lib.display.IFrame at 0x1fd72945e40>"
      ]
     },
     "execution_count": 10,
     "metadata": {},
     "output_type": "execute_result"
    }
   ],
   "source": [
    "IFrame(src='./Aquivos_html/HistogramFare.html', width=854, height=480)"
   ]
  },
  {
   "cell_type": "markdown",
   "metadata": {},
   "source": [
    "O histograma de valor pago permite analisar a quantidade de passageiros do navio que pagaram pelo ticket cada intervalo de valores.\n",
    "\n",
    "Através dele é possível analisar que a maior parte dos passageiros pagou uma quantia menor que 100, ao ponto que há determinados casos atípicos que pagaram mais de 500."
   ]
  },
  {
   "cell_type": "code",
   "execution_count": 13,
   "metadata": {},
   "outputs": [
    {
     "data": {
      "text/html": [
       "\n",
       "        <iframe\n",
       "            width=\"854\"\n",
       "            height=\"480\"\n",
       "            src=\"./Aquivos_html/DivergingBarPlot.html\"\n",
       "            frameborder=\"0\"\n",
       "            allowfullscreen\n",
       "            \n",
       "        ></iframe>\n",
       "        "
      ],
      "text/plain": [
       "<IPython.lib.display.IFrame at 0x1fd729456c0>"
      ]
     },
     "execution_count": 13,
     "metadata": {},
     "output_type": "execute_result"
    }
   ],
   "source": [
    "IFrame(src='./Aquivos_html/DivergingBarPlot.html', width=854, height=480)"
   ]
  },
  {
   "cell_type": "code",
   "execution_count": null,
   "metadata": {},
   "outputs": [],
   "source": []
  },
  {
   "cell_type": "code",
   "execution_count": 12,
   "metadata": {},
   "outputs": [
    {
     "data": {
      "text/html": [
       "\n",
       "        <iframe\n",
       "            width=\"854\"\n",
       "            height=\"480\"\n",
       "            src=\"./Aquivos_html/GroupedBarPlot.html\"\n",
       "            frameborder=\"0\"\n",
       "            allowfullscreen\n",
       "            \n",
       "        ></iframe>\n",
       "        "
      ],
      "text/plain": [
       "<IPython.lib.display.IFrame at 0x1fd72945b40>"
      ]
     },
     "execution_count": 12,
     "metadata": {},
     "output_type": "execute_result"
    }
   ],
   "source": [
    "IFrame(src='./Aquivos_html/GroupedBarPlot.html', width=854, height=480)"
   ]
  },
  {
   "cell_type": "code",
   "execution_count": null,
   "metadata": {},
   "outputs": [],
   "source": []
  },
  {
   "cell_type": "code",
   "execution_count": 21,
   "metadata": {},
   "outputs": [
    {
     "data": {
      "text/html": [
       "\n",
       "        <iframe\n",
       "            width=\"854\"\n",
       "            height=\"600\"\n",
       "            src=\"./Aquivos_html/StripPlot.html\"\n",
       "            frameborder=\"0\"\n",
       "            allowfullscreen\n",
       "            \n",
       "        ></iframe>\n",
       "        "
      ],
      "text/plain": [
       "<IPython.lib.display.IFrame at 0x1fd72946fe0>"
      ]
     },
     "execution_count": 21,
     "metadata": {},
     "output_type": "execute_result"
    }
   ],
   "source": [
    "IFrame(src='./Aquivos_html/StripPlot.html', width=854, height=600)"
   ]
  },
  {
   "cell_type": "code",
   "execution_count": null,
   "metadata": {},
   "outputs": [],
   "source": []
  }
 ],
 "metadata": {
  "kernelspec": {
   "display_name": "Python 3 (ipykernel)",
   "language": "python",
   "name": "python3"
  },
  "language_info": {
   "codemirror_mode": {
    "name": "ipython",
    "version": 3
   },
   "file_extension": ".py",
   "mimetype": "text/x-python",
   "name": "python",
   "nbconvert_exporter": "python",
   "pygments_lexer": "ipython3",
   "version": "3.10.9"
  }
 },
 "nbformat": 4,
 "nbformat_minor": 2
}
